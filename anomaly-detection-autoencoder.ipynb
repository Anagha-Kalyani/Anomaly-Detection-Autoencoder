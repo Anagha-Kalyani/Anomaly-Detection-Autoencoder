{
 "cells": [
  {
   "cell_type": "code",
   "execution_count": 1,
   "id": "c9939816-fcee-4ef0-ac30-89cc79876719",
   "metadata": {},
   "outputs": [
    {
     "name": "stderr",
     "output_type": "stream",
     "text": [
      "2023-08-25 18:00:17.284796: I tensorflow/core/platform/cpu_feature_guard.cc:182] This TensorFlow binary is optimized to use available CPU instructions in performance-critical operations.\n",
      "To enable the following instructions: AVX2 FMA, in other operations, rebuild TensorFlow with the appropriate compiler flags.\n"
     ]
    }
   ],
   "source": [
    "import pandas as pd\n",
    "import numpy as np\n",
    "import tensorflow as tf"
   ]
  },
  {
   "cell_type": "code",
   "execution_count": 2,
   "id": "15f3f702-7803-4eeb-bc58-cb8275baf6ed",
   "metadata": {},
   "outputs": [
    {
     "name": "stdout",
     "output_type": "stream",
     "text": [
      "<class 'pandas.core.frame.DataFrame'>\n",
      "RangeIndex: 186298 entries, 0 to 186297\n",
      "Data columns (total 22 columns):\n",
      " #   Column                          Non-Null Count   Dtype  \n",
      "---  ------                          --------------   -----  \n",
      " 0   Datetime                        186298 non-null  object \n",
      " 1   DTG-1_PCH_ANALOG_RAT (Analog)   186298 non-null  float64\n",
      " 2   DTG-1_ROL_ANALOG_RAT (Analog)   186298 non-null  float64\n",
      " 3   DTG-1_PCH_FINE_RATE (Analog)    186298 non-null  float64\n",
      " 4   DTG-1_ROL_FINE_RATE (Analog)    186298 non-null  float64\n",
      " 5   DTG-2_YAW_ANALOG_RAT (Analog)   186298 non-null  float64\n",
      " 6   DTG-2_PCH_ANALOG_RAT (Analog)   186298 non-null  float64\n",
      " 7   DTG-2_YAW_FINE_RATE (Analog)    186298 non-null  float64\n",
      " 8   DTG-2_PCH_FINE_RATE (Analog)    186298 non-null  float64\n",
      " 9   DTG-1_TH_TEMP (Analog)          186298 non-null  float64\n",
      " 10  DTG-1_ELECTRONICS_TH (Analog)   186298 non-null  float64\n",
      " 11  DTG-2_TH_TEMP (Analog)          186298 non-null  float64\n",
      " 12  DTG-2_ELECTRONICS_TH (Analog)   186298 non-null  float64\n",
      " 13  DTG-2_SYNC_STS (Digital)        186298 non-null  int64  \n",
      " 14  DTG-2_ON_STS (Digital)          186298 non-null  int64  \n",
      " 15  DTG-1_ON_STS (Digital)          186298 non-null  int64  \n",
      " 16  DTG-2_RB_SUPPLY_STS (Digital)   186298 non-null  int64  \n",
      " 17  DTG-1_SYNC_STS (Digital)        186298 non-null  int64  \n",
      " 18  DTG-3_USBL_STS (Digital)        186298 non-null  int64  \n",
      " 19  DTG_ANALOG_RATE_CHK (Digital)   186298 non-null  int64  \n",
      " 20  DTG-2_TEMP_SEL_CMD_S (Digital)  186298 non-null  int64  \n",
      " 21  DTG-1_RB_SUPPLY_STS (Digital)   186298 non-null  int64  \n",
      "dtypes: float64(12), int64(9), object(1)\n",
      "memory usage: 31.3+ MB\n"
     ]
    }
   ],
   "source": [
    "df=pd.read_csv(\"preprocessed_isro_data.csv\")\n",
    "df.info()"
   ]
  },
  {
   "cell_type": "code",
   "execution_count": 3,
   "id": "4e238d44-a005-49fc-9b43-aa3e70a109f8",
   "metadata": {},
   "outputs": [],
   "source": [
    "df['Datetime'] = pd.to_datetime(df['Datetime'])"
   ]
  },
  {
   "cell_type": "code",
   "execution_count": 5,
   "id": "ceb349cb-1435-4aef-a0c1-4b7e9cc6c448",
   "metadata": {},
   "outputs": [
    {
     "name": "stdout",
     "output_type": "stream",
     "text": [
      "<class 'pandas.core.frame.DataFrame'>\n",
      "RangeIndex: 186298 entries, 0 to 186297\n",
      "Data columns (total 22 columns):\n",
      " #   Column                          Non-Null Count   Dtype         \n",
      "---  ------                          --------------   -----         \n",
      " 0   Datetime                        186298 non-null  datetime64[ns]\n",
      " 1   DTG-1_PCH_ANALOG_RAT (Analog)   186298 non-null  float64       \n",
      " 2   DTG-1_ROL_ANALOG_RAT (Analog)   186298 non-null  float64       \n",
      " 3   DTG-1_PCH_FINE_RATE (Analog)    186298 non-null  float64       \n",
      " 4   DTG-1_ROL_FINE_RATE (Analog)    186298 non-null  float64       \n",
      " 5   DTG-2_YAW_ANALOG_RAT (Analog)   186298 non-null  float64       \n",
      " 6   DTG-2_PCH_ANALOG_RAT (Analog)   186298 non-null  float64       \n",
      " 7   DTG-2_YAW_FINE_RATE (Analog)    186298 non-null  float64       \n",
      " 8   DTG-2_PCH_FINE_RATE (Analog)    186298 non-null  float64       \n",
      " 9   DTG-1_TH_TEMP (Analog)          186298 non-null  float64       \n",
      " 10  DTG-1_ELECTRONICS_TH (Analog)   186298 non-null  float64       \n",
      " 11  DTG-2_TH_TEMP (Analog)          186298 non-null  float64       \n",
      " 12  DTG-2_ELECTRONICS_TH (Analog)   186298 non-null  float64       \n",
      " 13  DTG-2_SYNC_STS (Digital)        186298 non-null  int64         \n",
      " 14  DTG-2_ON_STS (Digital)          186298 non-null  int64         \n",
      " 15  DTG-1_ON_STS (Digital)          186298 non-null  int64         \n",
      " 16  DTG-2_RB_SUPPLY_STS (Digital)   186298 non-null  int64         \n",
      " 17  DTG-1_SYNC_STS (Digital)        186298 non-null  int64         \n",
      " 18  DTG-3_USBL_STS (Digital)        186298 non-null  int64         \n",
      " 19  DTG_ANALOG_RATE_CHK (Digital)   186298 non-null  int64         \n",
      " 20  DTG-2_TEMP_SEL_CMD_S (Digital)  186298 non-null  int64         \n",
      " 21  DTG-1_RB_SUPPLY_STS (Digital)   186298 non-null  int64         \n",
      "dtypes: datetime64[ns](1), float64(12), int64(9)\n",
      "memory usage: 31.3 MB\n"
     ]
    }
   ],
   "source": [
    "df.info()"
   ]
  },
  {
   "cell_type": "code",
   "execution_count": 96,
   "id": "ab74f3ab-5d68-4f86-abc0-9032159fe5bb",
   "metadata": {},
   "outputs": [
    {
     "name": "stdout",
     "output_type": "stream",
     "text": [
      "Epoch 1/10\n",
      "5822/5822 [==============================] - 18s 3ms/step - loss: 0.2486\n",
      "Epoch 2/10\n",
      "5822/5822 [==============================] - 13s 2ms/step - loss: 0.0857\n",
      "Epoch 3/10\n",
      "5822/5822 [==============================] - 14s 2ms/step - loss: 0.0563\n",
      "Epoch 4/10\n",
      "5822/5822 [==============================] - 13s 2ms/step - loss: 0.0472\n",
      "Epoch 5/10\n",
      "5822/5822 [==============================] - 13s 2ms/step - loss: 0.0472\n",
      "Epoch 6/10\n",
      "5822/5822 [==============================] - 13s 2ms/step - loss: 0.0472\n",
      "Epoch 7/10\n",
      "5822/5822 [==============================] - 13s 2ms/step - loss: 0.0472\n",
      "Epoch 8/10\n",
      "5822/5822 [==============================] - 13s 2ms/step - loss: 0.0203\n",
      "Epoch 9/10\n",
      "5822/5822 [==============================] - 14s 2ms/step - loss: 1.9430e-04\n",
      "Epoch 10/10\n",
      "5822/5822 [==============================] - 14s 2ms/step - loss: 1.8054e-04\n",
      "5822/5822 [==============================] - 9s 1ms/step\n",
      "5822/5822 [==============================] - 9s 1ms/step\n"
     ]
    }
   ],
   "source": [
    "from tensorflow import keras\n",
    "\n",
    "datetime_series = df['Datetime']\n",
    "features = df.iloc[:, 1:].values \n",
    "\n",
    "input_dim = features.shape[1]  \n",
    "encoding_dim = 5 \n",
    "\n",
    "encoder = keras.Sequential([\n",
    "    keras.layers.Input(shape=(input_dim,)),\n",
    "    keras.layers.Dense(64, activation='relu'),\n",
    "    keras.layers.Dense(64, activation='relu'),\n",
    "    keras.layers.Dense(encoding_dim, activation='relu')\n",
    "])\n",
    "\n",
    "\n",
    "decoder = keras.Sequential([\n",
    "    keras.layers.Input(shape=(encoding_dim,)),\n",
    "    keras.layers.Dense(64, activation='relu'),\n",
    "    keras.layers.Dense(64, activation='relu'),\n",
    "    keras.layers.Dense(input_dim, activation='relu') \n",
    "])\n",
    "\n",
    "autoencoder = keras.Sequential([encoder, decoder])\n",
    "\n",
    "autoencoder.compile(optimizer='adam', loss='mse')\n",
    "\n",
    "autoencoder.fit(features, features, epochs=10, batch_size=32)\n",
    "\n",
    "encoded_data = encoder.predict(features)\n",
    "decoded_data = decoder.predict(encoded_data)"
   ]
  },
  {
   "cell_type": "code",
   "execution_count": 98,
   "id": "795fea33-96c0-42db-8f75-55bf4572c28f",
   "metadata": {},
   "outputs": [
    {
     "name": "stdout",
     "output_type": "stream",
     "text": [
      "[1.13125770e-04 1.17660998e-04 1.17660998e-04 ... 6.98836962e-05\n",
      " 6.98838186e-05 6.98838186e-05]\n",
      "0.10715991301959006\n",
      "[0.10715991301959006, 0.10016686307262068, 0.10016686307262068, 0.10016686307262068, 0.0953177798518943, 0.0953177798518943, 0.09528942329039782, 0.09525049725823169, 0.09522297284812156, 0.09522297284812156]\n",
      "Datetime of the first anomaly: 2018-05-10 10:48:01.660014\n"
     ]
    }
   ],
   "source": [
    "reconstruction_errors = np.mean(np.square(features - decoded_data), axis=1)\n",
    "print(reconstruction_errors)\n",
    "print(max(reconstruction_errors))\n",
    "print(sorted(reconstruction_errors, reverse= True)[:10])\n",
    "\n",
    "threshold = max(reconstruction_errors)\n",
    "\n",
    "first_anomaly_index = np.argmax(reconstruction_errors >= threshold)\n",
    "\n",
    "first_anomaly_datetime = datetime_series.iloc[first_anomaly_index]\n",
    "\n",
    "print(\"Datetime of the first anomaly:\", first_anomaly_datetime)"
   ]
  },
  {
   "cell_type": "code",
   "execution_count": null,
   "id": "aec7048a",
   "metadata": {},
   "outputs": [],
   "source": []
  }
 ],
 "metadata": {
  "kernelspec": {
   "display_name": "Python 3 (ipykernel)",
   "language": "python",
   "name": "python3"
  },
  "language_info": {
   "codemirror_mode": {
    "name": "ipython",
    "version": 3
   },
   "file_extension": ".py",
   "mimetype": "text/x-python",
   "name": "python",
   "nbconvert_exporter": "python",
   "pygments_lexer": "ipython3",
   "version": "3.9.16"
  }
 },
 "nbformat": 4,
 "nbformat_minor": 5
}
